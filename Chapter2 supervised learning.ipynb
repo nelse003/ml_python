{
 "cells": [
  {
   "cell_type": "markdown",
   "metadata": {
    "collapsed": true
   },
   "source": [
    "## Supervised learning\n",
    "\n",
    "Supervised learning: predict a certain outcome from a given input with examples of input/output pairs. We build a ML model from the input/output pairs, comprising our training set. We aim to make predicitons for never before seen data. Human time is spent to build the trainign set.\n",
    "\n",
    "## Classification & Regression\n",
    "\n",
    "Classifaication aims to preodct a class label (i.e iris species), binary classification imples two choices (i.e. active vs inactive compund), whereas multiclass classification splits into more classes.\n",
    "\n",
    "Regression, predicitng a continous number: i.e. predict annual salary given age and education.\n",
    "\n",
    "Supervised learning is mostly eitehr classification or regression.\n",
    "\n",
    "## Generalisation, Overfitting and Underfitting\n",
    "\n",
    "\n"
   ]
  },
  {
   "cell_type": "code",
   "execution_count": 2,
   "metadata": {},
   "outputs": [],
   "source": [
    "import numpy as np\n",
    "import matplotlib.pyplot as plt\n",
    "import pandas as pd\n",
    "from IPython.display import display\n",
    "import mglearn"
   ]
  },
  {
   "cell_type": "code",
   "execution_count": null,
   "metadata": {},
   "outputs": [],
   "source": [
    ""
   ]
  }
 ],
 "metadata": {
  "kernelspec": {
   "display_name": "Python 2",
   "language": "python",
   "name": "python2"
  },
  "language_info": {
   "codemirror_mode": {
    "name": "ipython",
    "version": 2.0
   },
   "file_extension": ".py",
   "mimetype": "text/x-python",
   "name": "python",
   "nbconvert_exporter": "python",
   "pygments_lexer": "ipython2",
   "version": "2.7.6"
  }
 },
 "nbformat": 4,
 "nbformat_minor": 0
}